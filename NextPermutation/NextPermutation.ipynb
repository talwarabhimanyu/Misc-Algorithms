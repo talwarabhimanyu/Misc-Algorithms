{
 "cells": [
  {
   "cell_type": "code",
   "execution_count": 20,
   "metadata": {},
   "outputs": [],
   "source": [
    "class Solution(object):\n",
    "    def nextPermutation(self, nums):\n",
    "        \"\"\"\n",
    "        :type nums: List[int]\n",
    "        :rtype: void Do not return anything, modify nums in-place instead.\n",
    "        \"\"\"\n",
    "        i = len(nums) - 1\n",
    "        if i == 0:\n",
    "            return\n",
    "        while (i > 0):\n",
    "            if nums[i] > nums[i-1]:\n",
    "                j = i\n",
    "                while j < len(nums) - 1:\n",
    "                    if nums[j+1] > nums[i-1]:\n",
    "                        j += 1\n",
    "                    else:\n",
    "                        break\n",
    "                temp = nums[i-1]\n",
    "                nums[i-1] = nums[j]\n",
    "                nums[j] = temp\n",
    "                nums[i:] = sorted(nums[i:])\n",
    "                return\n",
    "            i -= 1\n",
    "        i = 0\n",
    "        j = len(nums) - 1\n",
    "        while (i < j):\n",
    "            temp = nums[j]\n",
    "            nums[j] = nums[i]\n",
    "            nums[i] = temp\n",
    "            i += 1\n",
    "            j -= 1\n",
    "        return"
   ]
  },
  {
   "cell_type": "code",
   "execution_count": 21,
   "metadata": {},
   "outputs": [
    {
     "data": {
      "text/plain": [
       "[2, 7, 3, 8, 9]"
      ]
     },
     "execution_count": 21,
     "metadata": {},
     "output_type": "execute_result"
    }
   ],
   "source": [
    "nums = [2,3,9,8,7]\n",
    "s = Solution()\n",
    "s.nextPermutation(nums)\n",
    "nums"
   ]
  },
  {
   "cell_type": "code",
   "execution_count": null,
   "metadata": {},
   "outputs": [],
   "source": []
  }
 ],
 "metadata": {
  "kernelspec": {
   "display_name": "Python 3",
   "language": "python",
   "name": "python3"
  },
  "language_info": {
   "codemirror_mode": {
    "name": "ipython",
    "version": 3
   },
   "file_extension": ".py",
   "mimetype": "text/x-python",
   "name": "python",
   "nbconvert_exporter": "python",
   "pygments_lexer": "ipython3",
   "version": "3.6.4"
  }
 },
 "nbformat": 4,
 "nbformat_minor": 2
}
