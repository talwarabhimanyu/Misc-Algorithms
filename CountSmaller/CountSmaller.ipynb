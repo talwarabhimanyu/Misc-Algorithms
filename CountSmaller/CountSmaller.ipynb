{
 "cells": [
  {
   "cell_type": "markdown",
   "metadata": {},
   "source": [
    "My solution modifies MergeSort and is $O(N logN)$."
   ]
  },
  {
   "cell_type": "code",
   "execution_count": 98,
   "metadata": {},
   "outputs": [],
   "source": [
    "class Solution(object):\n",
    "    def countSmaller(self, nums):\n",
    "        \"\"\"\n",
    "        :type nums: List[int]\n",
    "        :rtype: List[int]\n",
    "        \"\"\"\n",
    "        if not nums:\n",
    "            return []\n",
    "        self.nums = nums\n",
    "        self.indices = [i for i in range(len(nums))]\n",
    "        self.counts = [0]*len(nums)\n",
    "        _ = self.MergeCount(0, len(self.indices) - 1)\n",
    "        return self.counts\n",
    "    \n",
    "    def MergeCount(self, lo, hi):\n",
    "        if lo == hi:\n",
    "            return [self.indices[lo]]\n",
    "        mid = int((lo+hi)/2)\n",
    "        sorted1 = self.MergeCount(lo, mid)\n",
    "        sorted2 = self.MergeCount(mid+1, hi)\n",
    "        # Merge routine\n",
    "        idx, i1, i2 = 0, 0, 0\n",
    "        aux = [0]*(hi-lo+1)\n",
    "        while(i1 < len(sorted1) and i2 < len(sorted2)):\n",
    "            if self.nums[sorted1[i1]] < self.nums[sorted2[i2]]:\n",
    "                aux[idx] = sorted1[i1]\n",
    "                self.counts[sorted1[i1]] += i2\n",
    "                i1 += 1\n",
    "            else:\n",
    "                aux[idx] = sorted2[i2]\n",
    "                i2 += 1\n",
    "            idx += 1\n",
    "        while (i1 < len(sorted1)): aux[idx] = sorted1[i1]; self.counts[sorted1[i1]] += len(sorted2); i1 += 1; idx += 1\n",
    "        while (i2 < len(sorted2)): aux[idx] = sorted2[i2]; i2 += 1; idx += 1\n",
    "        self.indices[lo:hi+1] = aux\n",
    "        return aux"
   ]
  },
  {
   "cell_type": "code",
   "execution_count": 99,
   "metadata": {},
   "outputs": [
    {
     "data": {
      "text/plain": [
       "[4, 3, 2, 1, 0]"
      ]
     },
     "execution_count": 99,
     "metadata": {},
     "output_type": "execute_result"
    }
   ],
   "source": [
    "s = Solution()\n",
    "a = [5,4,3,2,1]\n",
    "s.countSmaller(a)"
   ]
  },
  {
   "cell_type": "code",
   "execution_count": null,
   "metadata": {},
   "outputs": [],
   "source": []
  }
 ],
 "metadata": {
  "kernelspec": {
   "display_name": "Python 3",
   "language": "python",
   "name": "python3"
  },
  "language_info": {
   "codemirror_mode": {
    "name": "ipython",
    "version": 3
   },
   "file_extension": ".py",
   "mimetype": "text/x-python",
   "name": "python",
   "nbconvert_exporter": "python",
   "pygments_lexer": "ipython3",
   "version": "3.6.4"
  }
 },
 "nbformat": 4,
 "nbformat_minor": 2
}
