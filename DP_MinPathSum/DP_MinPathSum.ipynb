{
 "cells": [
  {
   "cell_type": "code",
   "execution_count": 23,
   "metadata": {},
   "outputs": [],
   "source": [
    "class Solution(object):\n",
    "    def minPathSum(self, grid):\n",
    "        \"\"\"\n",
    "        :type grid: List[List[int]]\n",
    "        :rtype: int\n",
    "        \"\"\"\n",
    "        M = len(grid)\n",
    "        if not M: return 0\n",
    "        N = len(grid[0])\n",
    "        if not N: return 0\n",
    "        self.hashmap = [[None]*N for i in range(M)]\n",
    "        return self.helper(grid, M-1, N-1)\n",
    "    \n",
    "    def helper(self, grid, i, j):\n",
    "        if i == 0 and j == 0:\n",
    "            self.hashmap[i][j] = grid[i][j]\n",
    "            return grid[i][j]\n",
    "        left = None\n",
    "        if j > 0:\n",
    "            left = self.hashmap[i][j-1] \n",
    "            if left is None: left = self.helper(grid, i, j-1)\n",
    "        up = None\n",
    "        if i > 0:\n",
    "            up = self.hashmap[i-1][j] \n",
    "            if up is None: up = self.helper(grid, i-1, j)\n",
    "        if left is None:     self.hashmap[i][j] = grid[i][j] + up\n",
    "        elif up is None:     self.hashmap[i][j] = grid[i][j] + left\n",
    "        else:                self.hashmap[i][j] = grid[i][j] + min(up, left)\n",
    "        return self.hashmap[i][j]"
   ]
  },
  {
   "cell_type": "code",
   "execution_count": 24,
   "metadata": {},
   "outputs": [
    {
     "data": {
      "text/plain": [
       "7"
      ]
     },
     "execution_count": 24,
     "metadata": {},
     "output_type": "execute_result"
    }
   ],
   "source": [
    "s = Solution()\n",
    "grid = [\n",
    "  [1,3,1],\n",
    "  [1,5,1],\n",
    "  [4,2,1]\n",
    "]\n",
    "s.minPathSum(grid)"
   ]
  },
  {
   "cell_type": "code",
   "execution_count": 25,
   "metadata": {},
   "outputs": [
    {
     "data": {
      "text/plain": [
       "6"
      ]
     },
     "execution_count": 25,
     "metadata": {},
     "output_type": "execute_result"
    }
   ],
   "source": [
    "s = Solution()\n",
    "grid = [\n",
    "  [1,3,1,100],\n",
    "  [1,5,1,0],\n",
    "  [4,2,1,0]\n",
    "]\n",
    "s.minPathSum(grid)"
   ]
  },
  {
   "cell_type": "code",
   "execution_count": 26,
   "metadata": {},
   "outputs": [
    {
     "data": {
      "text/plain": [
       "0"
      ]
     },
     "execution_count": 26,
     "metadata": {},
     "output_type": "execute_result"
    }
   ],
   "source": [
    "s = Solution()\n",
    "grid = [\n",
    "  []\n",
    "]\n",
    "s.minPathSum(grid)"
   ]
  },
  {
   "cell_type": "code",
   "execution_count": null,
   "metadata": {},
   "outputs": [],
   "source": []
  }
 ],
 "metadata": {
  "kernelspec": {
   "display_name": "Python 3",
   "language": "python",
   "name": "python3"
  },
  "language_info": {
   "codemirror_mode": {
    "name": "ipython",
    "version": 3
   },
   "file_extension": ".py",
   "mimetype": "text/x-python",
   "name": "python",
   "nbconvert_exporter": "python",
   "pygments_lexer": "ipython3",
   "version": "3.6.4"
  }
 },
 "nbformat": 4,
 "nbformat_minor": 2
}
