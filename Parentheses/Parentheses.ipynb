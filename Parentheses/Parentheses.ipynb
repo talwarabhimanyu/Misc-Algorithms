{
 "cells": [
  {
   "cell_type": "code",
   "execution_count": 48,
   "metadata": {},
   "outputs": [],
   "source": [
    "class Solution(object):\n",
    "    def diffWaysToCompute(self, input):\n",
    "        \"\"\"\n",
    "        :type input: str\n",
    "        :rtype: List[int]\n",
    "        \"\"\"\n",
    "        return self.recursiveParen(input)\n",
    "    \n",
    "    def recursiveParen(self, input):\n",
    "        if input.isdigit():\n",
    "            return [int(input)]\n",
    "        result = []\n",
    "        for i, ch in enumerate(input):\n",
    "            if ch in '*+-':\n",
    "                list1 = self.recursiveParen(input[0:i])\n",
    "                list2 = self.recursiveParen(input[i+1:])\n",
    "                result += self.combine(list1, list2, ch)\n",
    "        return result\n",
    "                \n",
    "    def operate(self, num1, num2, oper):\n",
    "        if oper == '+':\n",
    "            return int(num1 + num2)\n",
    "        elif oper == '-':\n",
    "            return int(num1 - num2)\n",
    "        else:\n",
    "            return int(num1 * num2)\n",
    "        \n",
    "    def combine(self, list1, list2, oper):\n",
    "        result = []\n",
    "        for num1 in list1:\n",
    "            for num2 in list2:\n",
    "                result.append(self.operate(num1, num2, oper))\n",
    "        return result"
   ]
  },
  {
   "cell_type": "code",
   "execution_count": 50,
   "metadata": {},
   "outputs": [
    {
     "data": {
      "text/plain": [
       "[-34, -10, -14, -10, 10]"
      ]
     },
     "execution_count": 50,
     "metadata": {},
     "output_type": "execute_result"
    }
   ],
   "source": [
    "s = Solution()\n",
    "input = '2*3-4*5'\n",
    "s.diffWaysToCompute(input)"
   ]
  }
 ],
 "metadata": {
  "kernelspec": {
   "display_name": "Python 3",
   "language": "python",
   "name": "python3"
  },
  "language_info": {
   "codemirror_mode": {
    "name": "ipython",
    "version": 3
   },
   "file_extension": ".py",
   "mimetype": "text/x-python",
   "name": "python",
   "nbconvert_exporter": "python",
   "pygments_lexer": "ipython3",
   "version": "3.6.4"
  }
 },
 "nbformat": 4,
 "nbformat_minor": 2
}
