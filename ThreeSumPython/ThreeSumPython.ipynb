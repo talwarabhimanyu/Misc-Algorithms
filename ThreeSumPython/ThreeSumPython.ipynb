{
 "cells": [
  {
   "cell_type": "code",
   "execution_count": 8,
   "metadata": {},
   "outputs": [],
   "source": [
    "class Solution(object):\n",
    "    def threeSum(self, nums):\n",
    "        \"\"\"\n",
    "        :type nums: List[int]\n",
    "        :rtype: List[List[int]]\n",
    "        \"\"\"\n",
    "        nums_ = sorted(nums)\n",
    "        result = []\n",
    "        i = 0\n",
    "        while i < len(nums_) - 2:\n",
    "            if nums_[i] > 0:\n",
    "                return result\n",
    "            j = i+1\n",
    "            k = len(nums_) - 1\n",
    "            while (j < k):\n",
    "                if nums_[j] > - nums_[i]:\n",
    "                    break\n",
    "                two_sum = nums_[j] +  nums_[k]\n",
    "                if two_sum == - nums_[i]:\n",
    "                    result.append([nums_[i], nums_[j], nums_[k]])\n",
    "                    j += 1\n",
    "                    while j < len(nums_)-1 and nums_[j] == nums_[j-1]:\n",
    "                        j += 1\n",
    "                    k -= 1\n",
    "                    while k > 1 and nums_[k+1] == nums_[k]:\n",
    "                        k -= 1\n",
    "                elif two_sum < - nums_[i]:\n",
    "                    j += 1\n",
    "                    while j < len(nums_)-1 and nums_[j] == nums_[j-1]:\n",
    "                        j += 1\n",
    "                else:\n",
    "                    k -= 1\n",
    "                    while k > 1 and nums_[k+1] == nums_[k]:\n",
    "                        k -= 1\n",
    "            i += 1\n",
    "            while nums_[i] == nums_[i-1]:\n",
    "                if i == len(nums_) - 2:\n",
    "                    return result\n",
    "                i += 1\n",
    "        return result"
   ]
  },
  {
   "cell_type": "code",
   "execution_count": 9,
   "metadata": {},
   "outputs": [
    {
     "data": {
      "text/plain": [
       "[[-1, -1, 2], [-1, 0, 1]]"
      ]
     },
     "execution_count": 9,
     "metadata": {},
     "output_type": "execute_result"
    }
   ],
   "source": [
    "a = [-1, 0, 1, 2, -1, -4]\n",
    "s = Solution()\n",
    "s.threeSum(a)"
   ]
  },
  {
   "cell_type": "code",
   "execution_count": 10,
   "metadata": {},
   "outputs": [
    {
     "data": {
      "text/plain": [
       "[[-1, 0, 1]]"
      ]
     },
     "execution_count": 10,
     "metadata": {},
     "output_type": "execute_result"
    }
   ],
   "source": [
    "s = Solution()\n",
    "b = [1,-1,-1,0]\n",
    "s.threeSum(b)"
   ]
  },
  {
   "cell_type": "code",
   "execution_count": 16,
   "metadata": {},
   "outputs": [
    {
     "data": {
      "text/plain": [
       "[[0, 0, 0]]"
      ]
     },
     "execution_count": 16,
     "metadata": {},
     "output_type": "execute_result"
    }
   ],
   "source": [
    "c = [0,0,0,0]\n",
    "s.threeSum(c)"
   ]
  }
 ],
 "metadata": {
  "kernelspec": {
   "display_name": "Python 3",
   "language": "python",
   "name": "python3"
  },
  "language_info": {
   "codemirror_mode": {
    "name": "ipython",
    "version": 3
   },
   "file_extension": ".py",
   "mimetype": "text/x-python",
   "name": "python",
   "nbconvert_exporter": "python",
   "pygments_lexer": "ipython3",
   "version": "3.6.4"
  }
 },
 "nbformat": 4,
 "nbformat_minor": 2
}
