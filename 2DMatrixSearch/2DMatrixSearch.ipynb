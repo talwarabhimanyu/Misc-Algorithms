{
 "cells": [
  {
   "cell_type": "code",
   "execution_count": 1,
   "metadata": {},
   "outputs": [],
   "source": [
    "import numpy as np"
   ]
  },
  {
   "cell_type": "code",
   "execution_count": 40,
   "metadata": {},
   "outputs": [],
   "source": [
    "class Solution(object):\n",
    "    def binarySearch1D(self, nums, target):\n",
    "        k = int(len(nums)/2)\n",
    "        if len(nums) == 0:\n",
    "            return False\n",
    "        elif nums[k] == target:\n",
    "            return True\n",
    "        elif len(nums) == 1:\n",
    "            return False\n",
    "        elif nums[k] > target:\n",
    "            return self.binarySearch1D(nums[0:k], target)\n",
    "        else:\n",
    "            return self.binarySearch1D(nums[k+1:], target) \n",
    "\n",
    "    def recursiveMatrixSearch(self, matrix, target):\n",
    "        M = matrix.shape[0]\n",
    "        N = matrix.shape[1]\n",
    "        if M == 0 or N == 0:\n",
    "            return False\n",
    "        \n",
    "        if (target < matrix[0,0]) or (target > matrix[M-1,N-1]):\n",
    "            return False\n",
    "        \n",
    "        if M == 1:\n",
    "            return self.binarySearch1D(matrix[0,:], target)\n",
    "        elif N == 1:\n",
    "            return self.binarySearch1D(matrix[:,0], target)\n",
    "        \n",
    "        mid_r = int(M/2)\n",
    "        mid_c = int(N/2)\n",
    "        \n",
    "        matrix1, matrix2 = None, None\n",
    "        if target == matrix[mid_r, mid_c]:\n",
    "            return True\n",
    "        elif target > matrix[mid_r, mid_c]:\n",
    "            matrix1 = matrix[mid_r+1:M, 0:mid_c+1]\n",
    "            matrix2 = matrix[:,mid_c+1:N]\n",
    "        else:\n",
    "            matrix1 = matrix[mid_r:M, 0:mid_c]\n",
    "            matrix2 = matrix[0:mid_r,:]\n",
    "        in_matrix1 = self.recursiveMatrixSearch(matrix1, target)\n",
    "        if in_matrix1:\n",
    "            return True\n",
    "        else:\n",
    "            return self.recursiveMatrixSearch(matrix2, target)\n",
    "\n",
    "    def searchMatrix(self, matrix, target):\n",
    "        \"\"\"\n",
    "        :type matrix: List[List[int]]\n",
    "        :type target: int\n",
    "        :rtype: bool\n",
    "        \"\"\"\n",
    "        if len(matrix) == 0:\n",
    "            return False\n",
    "        else:\n",
    "            return self.recursiveMatrixSearch(np.asarray(matrix), target)\n",
    "    \n",
    "    def altMatrixSearch(self, matrix, target):\n",
    "        if len(matrix) == 0:\n",
    "            return False\n",
    "        M = matrix.shape[0]\n",
    "        N = matrix.shape[1]\n",
    "        x = 0\n",
    "        y = M - 1\n",
    "        while (x < M and y >= 0):\n",
    "            if target == matrix[x,y]:\n",
    "                return True\n",
    "            elif target > matrix[x,y]:\n",
    "                x += 1\n",
    "            else:\n",
    "                y -= 1\n",
    "        return False"
   ]
  },
  {
   "cell_type": "code",
   "execution_count": 41,
   "metadata": {},
   "outputs": [
    {
     "data": {
      "text/plain": [
       "True"
      ]
     },
     "execution_count": 41,
     "metadata": {},
     "output_type": "execute_result"
    }
   ],
   "source": [
    "s = Solution()\n",
    "a = np.asarray([\n",
    "  [1,   4,  7, 11, 15],\n",
    "  [2,   5,  8, 12, 19],\n",
    "  [3,   6,  9, 16, 22],\n",
    "  [10, 13, 14, 17, 24],\n",
    "  [18, 21, 23, 26, 30]\n",
    "])\n",
    "s.recursiveMatrixSearch(a, 5)"
   ]
  },
  {
   "cell_type": "code",
   "execution_count": 42,
   "metadata": {},
   "outputs": [
    {
     "data": {
      "text/plain": [
       "True"
      ]
     },
     "execution_count": 42,
     "metadata": {},
     "output_type": "execute_result"
    }
   ],
   "source": [
    "s.altMatrixSearch(a, 5)"
   ]
  },
  {
   "cell_type": "code",
   "execution_count": 54,
   "metadata": {},
   "outputs": [],
   "source": [
    "import time as time\n",
    "t1 = []\n",
    "t2 = []\n",
    "for i in range(6):\n",
    "    size = 10**(i+4)\n",
    "    M = 10**(int((i+4)/2))\n",
    "    N = 10**(i+4 - int((i+4)/2))\n",
    "    b = np.arange(size).reshape(M, N)\n",
    "    tic = time.time()\n",
    "    for j in range(50):\n",
    "        _ = s.altMatrixSearch(b, b[M-1,0])\n",
    "    toc = time.time()\n",
    "    t1.append((toc - tic)/50)\n",
    "    tic = time.time()\n",
    "    for j in range(50):\n",
    "        _ = s.recursiveMatrixSearch(b, b[M-1,0])\n",
    "    toc = time.time()\n",
    "    t2.append((toc - tic)/50)"
   ]
  },
  {
   "cell_type": "code",
   "execution_count": 55,
   "metadata": {},
   "outputs": [
    {
     "data": {
      "image/png": "[encoded data removed]",
      "text/plain": [
       "<matplotlib.figure.Figure at 0x1dfbc6014a8>"
      ]
     },
     "metadata": {},
     "output_type": "display_data"
    }
   ],
   "source": [
    "import matplotlib.pyplot as plt\n",
    "plt.plot(np.arange(len(t1)), t1, label='alt')\n",
    "plt.plot(np.arange(len(t2)), t2, label='rec')\n",
    "plt.legend(loc='upper right')\n",
    "plt.show()"
   ]
  },
  {
   "cell_type": "code",
   "execution_count": null,
   "metadata": {},
   "outputs": [],
   "source": []
  }
 ],
 "metadata": {
  "kernelspec": {
   "display_name": "Python 3",
   "language": "python",
   "name": "python3"
  },
  "language_info": {
   "codemirror_mode": {
    "name": "ipython",
    "version": 3
   },
   "file_extension": ".py",
   "mimetype": "text/x-python",
   "name": "python",
   "nbconvert_exporter": "python",
   "pygments_lexer": "ipython3",
   "version": "3.6.4"
  }
 },
 "nbformat": 4,
 "nbformat_minor": 2
}
