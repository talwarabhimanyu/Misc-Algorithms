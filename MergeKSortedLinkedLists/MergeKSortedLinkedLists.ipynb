{
 "cells": [
  {
   "cell_type": "code",
   "execution_count": 2,
   "metadata": {},
   "outputs": [],
   "source": [
    "class MinHeap(object):\n",
    "    def __init__(self, N):\n",
    "        self.heap = [None]*N\n",
    "        self.last = -1\n",
    "    def isEmpty(self):\n",
    "        return self.last == -1\n",
    "    def insert(self, count_val_pair):\n",
    "        self.last += 1\n",
    "        self.heap[self.last] = count_val_pair\n",
    "        self.swim()\n",
    "    def more(self, k1, k2):\n",
    "        return self.heap[k1][0] > self.heap[k2][0]\n",
    "    def swim(self):\n",
    "        k = self.last\n",
    "        parent = int((k-1)/2) \n",
    "        while k > 0 and self.more(parent, k):\n",
    "            temp = self.heap[parent]\n",
    "            self.heap[parent] = self.heap[k]\n",
    "            self.heap[k] = temp\n",
    "            k = parent\n",
    "            parent = int((k-1)/2)\n",
    "    def delmin(self):\n",
    "        min_key = None\n",
    "        if self.last > -1:\n",
    "            min_key = self.heap[0]\n",
    "            self.heap[0] = self.heap[self.last]\n",
    "            self.heap[self.last] = None\n",
    "            self.last -= 1\n",
    "            if self.last > 0: self.sink()\n",
    "        return min_key\n",
    "    def sink(self):\n",
    "        k = 0\n",
    "        i = 2*k + 1\n",
    "        while(i <= self.last):\n",
    "            if i < self.last and self.more(i, i+1): i += 1\n",
    "            if self.more(i, k): break\n",
    "            temp = self.heap[i]\n",
    "            self.heap[i] = self.heap[k]\n",
    "            self.heap[k] = temp\n",
    "            k = i\n",
    "            i = 2*k + 1"
   ]
  },
  {
   "cell_type": "code",
   "execution_count": 11,
   "metadata": {},
   "outputs": [],
   "source": [
    "# Definition for singly-linked list.\n",
    "# class ListNode(object):\n",
    "#     def __init__(self, x):\n",
    "#         self.val = x\n",
    "#         self.next = None\n",
    "\n",
    "class Solution(object):\n",
    "    def mergeKLists(self, lists):\n",
    "        \"\"\"\n",
    "        :type lists: List[ListNode]\n",
    "        :rtype: ListNode\n",
    "        \"\"\"\n",
    "        k = len(lists)\n",
    "        if not k: return None\n",
    "        heap = MinHeap(k)\n",
    "        for idx, head in enumerate(lists):\n",
    "            if head is not None: heap.insert([head.val, idx])\n",
    "        head, ptr = None, None\n",
    "        while not heap.isEmpty():\n",
    "            val, idx = heap.delmin()\n",
    "            node = lists[idx]\n",
    "            lists[idx] = lists[idx].next \n",
    "            if lists[idx] is not None:\n",
    "                heap.insert([lists[idx].val, idx])\n",
    "            # Insert deleted value in merged list\n",
    "            if not head: head = node; ptr = node\n",
    "            else:        ptr.next = node; ptr = ptr.next\n",
    "            ptr.next = None\n",
    "        return head"
   ]
  },
  {
   "cell_type": "code",
   "execution_count": 10,
   "metadata": {},
   "outputs": [
    {
     "name": "stdout",
     "output_type": "stream",
     "text": [
      "2\n",
      "3\n",
      "1\n",
      "4\n"
     ]
    }
   ],
   "source": [
    "# Test MinHeap\n",
    "heap = MinHeap(5)\n",
    "heap.insert([10,1])\n",
    "heap.insert([1,2])\n",
    "heap.insert([3,3])\n",
    "heap.insert([15,4])\n",
    "while not heap.isEmpty():\n",
    "    x,y = heap.delmin()\n",
    "    print(y)"
   ]
  },
  {
   "cell_type": "code",
   "execution_count": 12,
   "metadata": {},
   "outputs": [
    {
     "data": {
      "text/plain": [
       "1"
      ]
     },
     "execution_count": 12,
     "metadata": {},
     "output_type": "execute_result"
    }
   ],
   "source": [
    "a = [[]]\n",
    "len(a)"
   ]
  },
  {
   "cell_type": "code",
   "execution_count": null,
   "metadata": {},
   "outputs": [],
   "source": []
  }
 ],
 "metadata": {
  "kernelspec": {
   "display_name": "Python 3",
   "language": "python",
   "name": "python3"
  },
  "language_info": {
   "codemirror_mode": {
    "name": "ipython",
    "version": 3
   },
   "file_extension": ".py",
   "mimetype": "text/x-python",
   "name": "python",
   "nbconvert_exporter": "python",
   "pygments_lexer": "ipython3",
   "version": "3.6.4"
  }
 },
 "nbformat": 4,
 "nbformat_minor": 2
}
