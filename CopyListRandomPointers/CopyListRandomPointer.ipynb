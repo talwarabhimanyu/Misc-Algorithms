{
 "cells": [
  {
   "cell_type": "code",
   "execution_count": null,
   "metadata": {},
   "outputs": [],
   "source": [
    "# Definition for singly-linked list with a random pointer.\n",
    "# class RandomListNode(object):\n",
    "#     def __init__(self, x):\n",
    "#         self.label = x\n",
    "#         self.next = None\n",
    "#         self.random = None\n",
    "\n",
    "class Solution(object):\n",
    "    def copyRandomList(self, head):\n",
    "        \"\"\"\n",
    "        :type head: RandomListNode\n",
    "        :rtype: RandomListNode\n",
    "        \"\"\"\n",
    "        node_map = {}\n",
    "        if head is None: return None\n",
    "        new_head = RandomListNode(head.label)\n",
    "        ptr = head.next\n",
    "        new_ptr = new_head\n",
    "        node_map.update({head: new_head})\n",
    "        # Set only next nodes\n",
    "        while ptr is not None:\n",
    "            new_node = RandomListNode(ptr.label)\n",
    "            new_ptr.next = new_node\n",
    "            new_ptr = new_node\n",
    "            node_map.update({ptr: new_ptr})\n",
    "            ptr = ptr.next            \n",
    "        # Set random pointers\n",
    "        ptr = head\n",
    "        new_ptr = new_head\n",
    "        while ptr is not None:\n",
    "            if ptr.random is not None:\n",
    "                new_ptr.random = node_map[ptr.random]\n",
    "            ptr = ptr.next\n",
    "            new_ptr = new_ptr.next\n",
    "        return new_head\n",
    "            "
   ]
  }
 ],
 "metadata": {
  "kernelspec": {
   "display_name": "Python 3",
   "language": "python",
   "name": "python3"
  },
  "language_info": {
   "codemirror_mode": {
    "name": "ipython",
    "version": 3
   },
   "file_extension": ".py",
   "mimetype": "text/x-python",
   "name": "python",
   "nbconvert_exporter": "python",
   "pygments_lexer": "ipython3",
   "version": "3.6.4"
  }
 },
 "nbformat": 4,
 "nbformat_minor": 2
}
