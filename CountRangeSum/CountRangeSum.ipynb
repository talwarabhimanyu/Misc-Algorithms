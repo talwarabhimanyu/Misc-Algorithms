{
 "cells": [
  {
   "cell_type": "markdown",
   "metadata": {},
   "source": [
    "This solution is adopted from Stefan Pochmann's [logic](https://leetcode.com/problems/count-of-range-sum/discuss/77991/Short-and-simple-O(n-log-n)). I have replaced his usage of Python's 'sorted' method with my own code for merging two lists. "
   ]
  },
  {
   "cell_type": "code",
   "execution_count": 80,
   "metadata": {},
   "outputs": [],
   "source": [
    "class Solution(object):\n",
    "    def countRangeSum(self, nums, lower, upper):\n",
    "        \"\"\"\n",
    "        :type nums: List[int]\n",
    "        :type lower: int\n",
    "        :type upper: int\n",
    "        :rtype: int\n",
    "        \"\"\"\n",
    "        if len(nums) == 0:\n",
    "            return 0\n",
    "        summ = 0\n",
    "        self.nums = []\n",
    "        for num in nums:\n",
    "            self.nums += [summ + num]\n",
    "            summ += num\n",
    "        return self.recursiveMergeSortCount(lower, upper, 0, len(nums) - 1)\n",
    "    \n",
    "    def recursiveMergeSortCount(self, lower, upper, lo, hi):\n",
    "        if len(self.nums[lo:hi+1]) == 0:\n",
    "            return 0\n",
    "        elif len(self.nums[lo:hi+1]) == 1:\n",
    "            if self.nums[lo] >= lower and self.nums[lo] <= upper:\n",
    "                return 1\n",
    "            else:\n",
    "                return 0\n",
    "        mid = int((lo + hi)/2)\n",
    "        count = self.recursiveMergeSortCount(lower, upper, lo, mid) \\\n",
    "                + self.recursiveMergeSortCount(lower, upper, mid + 1, hi)\n",
    "        i = j = mid + 1\n",
    "        for num in self.nums[lo:mid+1]:\n",
    "            while (i <= hi and self.nums[i] - num < lower): i+= 1\n",
    "            while (j <= hi and self.nums[j] - num <= upper): j+= 1\n",
    "            count += j - i\n",
    "        aux = [0]*(hi - lo + 1)\n",
    "        i1 = lo\n",
    "        i2 = mid + 1\n",
    "        idx = 0\n",
    "        while (i1 <= mid and i2 <= hi):\n",
    "            if self.nums[i1] <= self.nums[i2]:\n",
    "                aux[idx] = self.nums[i1]\n",
    "                i1 += 1\n",
    "            else:\n",
    "                aux[idx] = self.nums[i2]\n",
    "                i2 += 1\n",
    "            idx += 1\n",
    "        while i1 <= mid: aux[idx] = self.nums[i1]; i1 += 1; idx += 1\n",
    "        while i2 <= hi: aux[idx] = self.nums[i2]; i2 += 1; idx += 1\n",
    "        self.nums[lo:hi+1] = aux\n",
    "        return count"
   ]
  },
  {
   "cell_type": "code",
   "execution_count": 82,
   "metadata": {},
   "outputs": [
    {
     "data": {
      "text/plain": [
       "3"
      ]
     },
     "execution_count": 82,
     "metadata": {},
     "output_type": "execute_result"
    }
   ],
   "source": [
    "s1 = Solution()\n",
    "nums = [-2,5,-1]\n",
    "s1.countRangeSum(nums, -2, 2)"
   ]
  }
 ],
 "metadata": {
  "kernelspec": {
   "display_name": "Python 3",
   "language": "python",
   "name": "python3"
  },
  "language_info": {
   "codemirror_mode": {
    "name": "ipython",
    "version": 3
   },
   "file_extension": ".py",
   "mimetype": "text/x-python",
   "name": "python",
   "nbconvert_exporter": "python",
   "pygments_lexer": "ipython3",
   "version": "3.6.4"
  }
 },
 "nbformat": 4,
 "nbformat_minor": 2
}
