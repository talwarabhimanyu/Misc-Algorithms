{
 "cells": [
  {
   "cell_type": "markdown",
   "metadata": {},
   "source": [
    "Delete $n^{th}$ node from the end of a Linked List in $O(N)$ time. "
   ]
  },
  {
   "cell_type": "code",
   "execution_count": 1,
   "metadata": {},
   "outputs": [],
   "source": [
    "# Definition for singly-linked list.\n",
    "# class ListNode(object):\n",
    "#     def __init__(self, x):\n",
    "#         self.val = x\n",
    "#         self.next = None\n",
    "\n",
    "class Solution(object):\n",
    "    def removeNthFromEnd(self, head, n):\n",
    "        \"\"\"\n",
    "        :type head: ListNode\n",
    "        :type n: int\n",
    "        :rtype: ListNode\n",
    "        \"\"\"\n",
    "        ptr1 = ptr2 = head\n",
    "        count = 0\n",
    "        while (ptr2.next):\n",
    "            ptr2 = ptr2.next\n",
    "            count += 1\n",
    "            if count > n:\n",
    "                ptr1 = ptr1.next\n",
    "        if count >= n:\n",
    "            ptr1.next = ptr1.next.next\n",
    "        else:\n",
    "            head = ptr1.next\n",
    "        return head"
   ]
  }
 ],
 "metadata": {
  "kernelspec": {
   "display_name": "Python 3",
   "language": "python",
   "name": "python3"
  },
  "language_info": {
   "codemirror_mode": {
    "name": "ipython",
    "version": 3
   },
   "file_extension": ".py",
   "mimetype": "text/x-python",
   "name": "python",
   "nbconvert_exporter": "python",
   "pygments_lexer": "ipython3",
   "version": "3.6.4"
  }
 },
 "nbformat": 4,
 "nbformat_minor": 2
}
