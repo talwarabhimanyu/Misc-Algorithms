{
 "cells": [
  {
   "cell_type": "code",
   "execution_count": 54,
   "metadata": {},
   "outputs": [],
   "source": [
    "class Solution(object):\n",
    "    def circularArrayLoop(self, nums):\n",
    "        \"\"\"\n",
    "        :type nums: List[int]\n",
    "        :rtype: bool\n",
    "        \"\"\"\n",
    "        steps = 0\n",
    "        N = len(nums)\n",
    "        if N < 3: return False\n",
    "        i = 0\n",
    "        flag = False\n",
    "        while steps < N+1:\n",
    "            num = nums[i]\n",
    "            dest = (i + num)%N\n",
    "            if dest < 0: dest += N\n",
    "            steps += 1\n",
    "            i = dest\n",
    "        # After N steps, you would be in loop\n",
    "        pin = i\n",
    "        direction = int(nums[i] > 0)\n",
    "        steps = 0\n",
    "        while steps < N+1:\n",
    "            num = nums[i]\n",
    "            if not(direction == int(num > 0)): break\n",
    "            dest = (i + num)%N\n",
    "            if dest < 0: dest += N\n",
    "            steps += 1\n",
    "            if dest == pin:\n",
    "                if steps < 2: break\n",
    "                else: flag = True\n",
    "            i = dest\n",
    "        return flag"
   ]
  },
  {
   "cell_type": "code",
   "execution_count": 55,
   "metadata": {},
   "outputs": [
    {
     "data": {
      "text/plain": [
       "False"
      ]
     },
     "execution_count": 55,
     "metadata": {},
     "output_type": "execute_result"
    }
   ],
   "source": [
    "s = Solution()\n",
    "a = [-1,2]\n",
    "s.circularArrayLoop(a)"
   ]
  },
  {
   "cell_type": "code",
   "execution_count": 61,
   "metadata": {},
   "outputs": [
    {
     "data": {
      "text/plain": [
       "False"
      ]
     },
     "execution_count": 61,
     "metadata": {},
     "output_type": "execute_result"
    }
   ],
   "source": [
    "s = Solution()\n",
    "a = [3,1,2]\n",
    "s.circularArrayLoop(a)"
   ]
  },
  {
   "cell_type": "code",
   "execution_count": 57,
   "metadata": {},
   "outputs": [
    {
     "data": {
      "text/plain": [
       "True"
      ]
     },
     "execution_count": 57,
     "metadata": {},
     "output_type": "execute_result"
    }
   ],
   "source": [
    "s = Solution()\n",
    "a = [2, -1, 1, 2, 2]\n",
    "s.circularArrayLoop(a)"
   ]
  },
  {
   "cell_type": "code",
   "execution_count": 58,
   "metadata": {},
   "outputs": [
    {
     "data": {
      "text/plain": [
       "False"
      ]
     },
     "execution_count": 58,
     "metadata": {},
     "output_type": "execute_result"
    }
   ],
   "source": [
    "s = Solution()\n",
    "a = [-1, -2, -3, -4, -5]\n",
    "s.circularArrayLoop(a)"
   ]
  },
  {
   "cell_type": "code",
   "execution_count": 59,
   "metadata": {},
   "outputs": [
    {
     "data": {
      "text/plain": [
       "False"
      ]
     },
     "execution_count": 59,
     "metadata": {},
     "output_type": "execute_result"
    }
   ],
   "source": [
    "s = Solution()\n",
    "a = [-2, 1, -1, -2, -2]\n",
    "s.circularArrayLoop(a)"
   ]
  },
  {
   "cell_type": "code",
   "execution_count": 60,
   "metadata": {},
   "outputs": [
    {
     "data": {
      "text/plain": [
       "False"
      ]
     },
     "execution_count": 60,
     "metadata": {},
     "output_type": "execute_result"
    }
   ],
   "source": [
    "s = Solution()\n",
    "a = [2, -1, 1, -2, -2]\n",
    "s.circularArrayLoop(a)"
   ]
  },
  {
   "cell_type": "code",
   "execution_count": null,
   "metadata": {},
   "outputs": [],
   "source": []
  }
 ],
 "metadata": {
  "kernelspec": {
   "display_name": "Python 3",
   "language": "python",
   "name": "python3"
  },
  "language_info": {
   "codemirror_mode": {
    "name": "ipython",
    "version": 3
   },
   "file_extension": ".py",
   "mimetype": "text/x-python",
   "name": "python",
   "nbconvert_exporter": "python",
   "pygments_lexer": "ipython3",
   "version": "3.6.4"
  }
 },
 "nbformat": 4,
 "nbformat_minor": 2
}
