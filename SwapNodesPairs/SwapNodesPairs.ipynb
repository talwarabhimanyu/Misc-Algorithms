{
 "cells": [
  {
   "cell_type": "code",
   "execution_count": 40,
   "metadata": {},
   "outputs": [],
   "source": [
    "# Definition for singly-linked list.\n",
    "# class ListNode(object):\n",
    "#     def __init__(self, x):\n",
    "#         self.val = x\n",
    "#         self.next = None\n",
    "\n",
    "class Solution(object):\n",
    "    def swapPairs(self, head):\n",
    "        \"\"\"\n",
    "        :type head: ListNode\n",
    "        :rtype: ListNode\n",
    "        \"\"\"\n",
    "        if not head or not head.next:\n",
    "            return head\n",
    "        ptr0, ptr1, ptr2 = head, head, head.next\n",
    "        isHead = True\n",
    "        while True:\n",
    "            ptr1.next = ptr2.next\n",
    "            ptr2.next = ptr1\n",
    "            temp = ptr1\n",
    "            ptr1 = ptr2\n",
    "            ptr2 = temp\n",
    "            if isHead: head = ptr1; isHead = False\n",
    "            else: ptr0.next = ptr1\n",
    "            if not ptr2.next or not ptr2.next.next:\n",
    "                return head\n",
    "            ptr0 = ptr2\n",
    "            ptr1 = ptr2.next\n",
    "            ptr2 = ptr1.next"
   ]
  },
  {
   "cell_type": "code",
   "execution_count": 41,
   "metadata": {},
   "outputs": [
    {
     "name": "stdout",
     "output_type": "stream",
     "text": [
      "2\n",
      "1\n",
      "4\n",
      "3\n"
     ]
    }
   ],
   "source": [
    "class Node(object):\n",
    "    def __init__(self, x):\n",
    "        self.val = x\n",
    "        self.next = None\n",
    "a = [1,2,3,4]\n",
    "head = Node(a[0])\n",
    "ptr = head\n",
    "for val in a[1:]:\n",
    "    ptr.next = Node(val)\n",
    "    ptr = ptr.next\n",
    "s = Solution()\n",
    "head = s.swapPairs(head)\n",
    "ptr = head\n",
    "while ptr:\n",
    "    print(ptr.val)\n",
    "    ptr = ptr.next"
   ]
  },
  {
   "cell_type": "code",
   "execution_count": 42,
   "metadata": {},
   "outputs": [
    {
     "name": "stdout",
     "output_type": "stream",
     "text": [
      "1\n"
     ]
    }
   ],
   "source": [
    "a = [1]\n",
    "head = Node(a[0])\n",
    "s = Solution()\n",
    "head = s.swapPairs(head)\n",
    "ptr = head\n",
    "while ptr:\n",
    "    print(ptr.val)\n",
    "    ptr = ptr.next"
   ]
  },
  {
   "cell_type": "code",
   "execution_count": null,
   "metadata": {},
   "outputs": [],
   "source": []
  }
 ],
 "metadata": {
  "kernelspec": {
   "display_name": "Python 3",
   "language": "python",
   "name": "python3"
  },
  "language_info": {
   "codemirror_mode": {
    "name": "ipython",
    "version": 3
   },
   "file_extension": ".py",
   "mimetype": "text/x-python",
   "name": "python",
   "nbconvert_exporter": "python",
   "pygments_lexer": "ipython3",
   "version": "3.6.4"
  }
 },
 "nbformat": 4,
 "nbformat_minor": 2
}
