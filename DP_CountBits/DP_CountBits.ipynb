{
 "cells": [
  {
   "cell_type": "code",
   "execution_count": 8,
   "metadata": {},
   "outputs": [],
   "source": [
    "class Solution(object):\n",
    "    def countBits(self, num):\n",
    "        \"\"\"\n",
    "        :type num: int\n",
    "        :rtype: List[int]\n",
    "        \"\"\"\n",
    "        self.hashmap = {}\n",
    "        result = []\n",
    "        for i in range(num+1):\n",
    "            result += [self.helper(i)]\n",
    "        return result\n",
    "    \n",
    "    def helper(self, num):\n",
    "        if not num: self.hashmap[num] = 0; return 0\n",
    "        if num in self.hashmap: return self.hashmap[num]\n",
    "        if not num%2 and num+1 in self.hashmap:\n",
    "            self.hashmap[num] = self.hashmap[num+1] - 1\n",
    "            return self.hashmap[num]\n",
    "        self.hashmap[num] = num%2 + self.helper(num//2)\n",
    "        return self.hashmap[num]"
   ]
  },
  {
   "cell_type": "code",
   "execution_count": 13,
   "metadata": {},
   "outputs": [
    {
     "data": {
      "text/plain": [
       "[0, 1, 1, 2, 1, 2, 2, 3]"
      ]
     },
     "execution_count": 13,
     "metadata": {},
     "output_type": "execute_result"
    }
   ],
   "source": [
    "s = Solution()\n",
    "num = 7\n",
    "s.countBits(num)"
   ]
  },
  {
   "cell_type": "code",
   "execution_count": null,
   "metadata": {},
   "outputs": [],
   "source": []
  }
 ],
 "metadata": {
  "kernelspec": {
   "display_name": "Python 3",
   "language": "python",
   "name": "python3"
  },
  "language_info": {
   "codemirror_mode": {
    "name": "ipython",
    "version": 3
   },
   "file_extension": ".py",
   "mimetype": "text/x-python",
   "name": "python",
   "nbconvert_exporter": "python",
   "pygments_lexer": "ipython3",
   "version": "3.6.4"
  }
 },
 "nbformat": 4,
 "nbformat_minor": 2
}
