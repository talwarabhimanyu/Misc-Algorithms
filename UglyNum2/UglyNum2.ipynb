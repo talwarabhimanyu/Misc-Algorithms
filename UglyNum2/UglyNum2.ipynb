{
 "cells": [
  {
   "cell_type": "code",
   "execution_count": 60,
   "metadata": {},
   "outputs": [],
   "source": [
    "import heapq\n",
    "class UniqueMinHeap():\n",
    "    def __init__(self):\n",
    "        self.dct = {}\n",
    "        self.h = []\n",
    "    def insert(self, num):\n",
    "        if num not in self.dct:\n",
    "            heapq.heappush(self.h, num)\n",
    "            self.dct[num] = 1\n",
    "    def delMin(self):\n",
    "        return heapq.heappop(self.h)\n",
    "    def minElement(self):\n",
    "        return self.h[0]\n",
    "    def isEmpty(self):\n",
    "        return len(self.h) == 0\n",
    "\n",
    "class Solution(object):\n",
    "    def nthUglyNumber(self, n):\n",
    "        \"\"\"\n",
    "        :type n: int\n",
    "        :rtype: int\n",
    "        \"\"\"\n",
    "        primes = [2,3,5]\n",
    "        k = len(primes)\n",
    "        if n == 1: return 1\n",
    "        heap = UniqueMinHeap()\n",
    "        ugliest = 1\n",
    "        head = 0\n",
    "        while head < n-1:\n",
    "            for prime in primes:\n",
    "                heap.insert(ugliest*prime)\n",
    "            ugliest = heap.delMin()\n",
    "            head += 1\n",
    "        return ugliest\n",
    "        "
   ]
  },
  {
   "cell_type": "code",
   "execution_count": 61,
   "metadata": {},
   "outputs": [
    {
     "data": {
      "text/plain": [
       "51200000"
      ]
     },
     "execution_count": 61,
     "metadata": {},
     "output_type": "execute_result"
    }
   ],
   "source": [
    "s = Solution()\n",
    "s.nthUglyNumber(1000)"
   ]
  },
  {
   "cell_type": "code",
   "execution_count": null,
   "metadata": {},
   "outputs": [],
   "source": [
    "# # my own heap implementation\n",
    "# class MinHeap():\n",
    "#     def __init__(self, size):\n",
    "#         self.size = size\n",
    "#         self.heap = [None]*size\n",
    "#         self.last = -1\n",
    "    \n",
    "#     def insertList(self, num_list):\n",
    "#         for num in num_list:\n",
    "#             self.insert(num)\n",
    "    \n",
    "#     def insert(self, num):\n",
    "#         self.last += 1\n",
    "#         self.heap[self.last] = num\n",
    "#         self.swim()\n",
    "    \n",
    "#     def isEmpty(self):\n",
    "#         return self.last == -1\n",
    "    \n",
    "#     def minElement(self):\n",
    "#         return self.heap[0]\n",
    "    \n",
    "#     def delMin(self):\n",
    "#         if self.isEmpty(): raise ValueError('Empty Heap')\n",
    "#         min_val = self.heap[0]\n",
    "#         self.swap(0, self.last)\n",
    "#         self.heap[self.last] = None\n",
    "#         self.last -= 1\n",
    "#         self.sink()\n",
    "#         return min_val\n",
    "    \n",
    "#     def swim(self):\n",
    "#         child = self.last\n",
    "#         parent = (child-1) // 2\n",
    "#         while child > 0 and self.less(child, parent):\n",
    "#             self.swap(parent, child)\n",
    "#             child = parent\n",
    "#             parent = (child-1) // 2\n",
    "            \n",
    "#     def sink(self):\n",
    "#         parent = 0\n",
    "#         child1 = 2*parent + 1\n",
    "#         child2 = 2*parent + 2\n",
    "#         # Run this loop only if parent has at least one non-null child\n",
    "#         while 2*parent < self.last:\n",
    "#             min_child = child1\n",
    "#             if self.heap[child2] is not None and self.less(child2, child1): min_child = child2\n",
    "#             if self.less(parent, min_child): break\n",
    "#             self.swap(parent, min_child)\n",
    "#             parent = min_child\n",
    "#             child1 = 2*parent + 1\n",
    "#             child2 = 2*parent + 2\n",
    "    \n",
    "#     def swap(self, k1, k2):\n",
    "#         temp = self.heap[k1]\n",
    "#         self.heap[k1] = self.heap[k2]\n",
    "#         self.heap[k2] = temp\n",
    "    \n",
    "#     def less(self, k1, k2):\n",
    "#         return self.heap[k1] < self.heap[k2]"
   ]
  }
 ],
 "metadata": {
  "kernelspec": {
   "display_name": "Python 3",
   "language": "python",
   "name": "python3"
  },
  "language_info": {
   "codemirror_mode": {
    "name": "ipython",
    "version": 3
   },
   "file_extension": ".py",
   "mimetype": "text/x-python",
   "name": "python",
   "nbconvert_exporter": "python",
   "pygments_lexer": "ipython3",
   "version": "3.6.4"
  }
 },
 "nbformat": 4,
 "nbformat_minor": 2
}
