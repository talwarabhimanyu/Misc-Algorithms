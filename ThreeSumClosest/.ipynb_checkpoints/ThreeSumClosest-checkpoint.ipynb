{
 "cells": [
  {
   "cell_type": "code",
   "execution_count": 39,
   "metadata": {},
   "outputs": [],
   "source": [
    "def threeSumClosest(nums, target):\n",
    "    \"\"\"\n",
    "    :type nums: List[int]\n",
    "    :type target: int\n",
    "    :rtype: int\n",
    "    \"\"\"\n",
    "    a = sorted(nums)\n",
    "    best_sum = a[0] + a[1] + a[len(a)-1]\n",
    "    best_diff = abs(target - best_sum)\n",
    "    for i in range(len(a) - 2):\n",
    "        j = i + 1\n",
    "        k = len(a) - 1\n",
    "        two_sum = target - a[i]\n",
    "        while (j < k):\n",
    "            this_sum = a[j] + a[k]\n",
    "            this_diff = abs(two_sum - this_sum)\n",
    "            if this_sum < two_sum:\n",
    "                j += 1\n",
    "            elif this_sum > two_sum:\n",
    "                k -= 1\n",
    "            else:\n",
    "                return a[i] + this_sum\n",
    "            if this_diff < best_diff:\n",
    "                best_diff = this_diff\n",
    "                best_sum = a[i] + this_sum\n",
    "    return best_sum"
   ]
  },
  {
   "cell_type": "code",
   "execution_count": 40,
   "metadata": {},
   "outputs": [
    {
     "data": {
      "text/plain": [
       "-1"
      ]
     },
     "execution_count": 40,
     "metadata": {},
     "output_type": "execute_result"
    }
   ],
   "source": [
    "threeSumClosest([1,1,-1,-1,3], -1)"
   ]
  },
  {
   "cell_type": "code",
   "execution_count": 41,
   "metadata": {},
   "outputs": [
    {
     "data": {
      "text/plain": [
       "-1"
      ]
     },
     "execution_count": 41,
     "metadata": {},
     "output_type": "execute_result"
    }
   ],
   "source": [
    "threeSumClosest([1,1,-1,-1], -100)"
   ]
  }
 ],
 "metadata": {
  "kernelspec": {
   "display_name": "Python 3",
   "language": "python",
   "name": "python3"
  },
  "language_info": {
   "codemirror_mode": {
    "name": "ipython",
    "version": 3
   },
   "file_extension": ".py",
   "mimetype": "text/x-python",
   "name": "python",
   "nbconvert_exporter": "python",
   "pygments_lexer": "ipython3",
   "version": "3.6.4"
  }
 },
 "nbformat": 4,
 "nbformat_minor": 2
}
