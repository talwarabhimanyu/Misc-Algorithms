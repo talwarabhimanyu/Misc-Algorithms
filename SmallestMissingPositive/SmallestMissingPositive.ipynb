{
 "cells": [
  {
   "cell_type": "code",
   "execution_count": 23,
   "metadata": {},
   "outputs": [],
   "source": [
    "class Solution(object):\n",
    "    def firstMissingPositive(self, nums):\n",
    "        \"\"\"\n",
    "        :type nums: List[int]\n",
    "        :rtype: int\n",
    "        \"\"\"\n",
    "        i = 0\n",
    "        while(i < len(nums)):\n",
    "            \"\"\"\n",
    "            If the number at index i is outside the range [1, len(nums)], \n",
    "            or if index i already stores i + 1, then move to next index.\n",
    "            \"\"\"\n",
    "            if nums[i] < 1 or nums[i] == i+1 or nums[i] > len(nums):\n",
    "                i += 1\n",
    "                continue\n",
    "            \"\"\"\n",
    "            If number at index i falls in the range [1, len(nums)], then swap\n",
    "            it with the number at index nums[i] - 1.\n",
    "            \"\"\"\n",
    "            if nums[i] >= 1 and nums[i] <= len(nums):\n",
    "                \"\"\"\n",
    "                If the number at index i is a duplicate, just move to\n",
    "                the index i + 1.\n",
    "                \"\"\"\n",
    "                if nums[nums[i]-1] == nums[i]:\n",
    "                    i += 1\n",
    "                    continue\n",
    "                temp = nums[nums[i]-1]\n",
    "                nums[nums[i]-1] = nums[i]\n",
    "                nums[i] = temp\n",
    "        i = 0\n",
    "        while (i < len(nums)):\n",
    "            if nums[i] != i + 1:\n",
    "                return i + 1\n",
    "            i += 1\n",
    "        return len(nums) + 1"
   ]
  },
  {
   "cell_type": "code",
   "execution_count": 24,
   "metadata": {},
   "outputs": [
    {
     "data": {
      "text/plain": [
       "2"
      ]
     },
     "execution_count": 24,
     "metadata": {},
     "output_type": "execute_result"
    }
   ],
   "source": [
    "a = [3,-1,4,1]\n",
    "s = Solution()\n",
    "s.firstMissingPositive(a)"
   ]
  },
  {
   "cell_type": "code",
   "execution_count": null,
   "metadata": {},
   "outputs": [],
   "source": []
  }
 ],
 "metadata": {
  "kernelspec": {
   "display_name": "Python 3",
   "language": "python",
   "name": "python3"
  },
  "language_info": {
   "codemirror_mode": {
    "name": "ipython",
    "version": 3
   },
   "file_extension": ".py",
   "mimetype": "text/x-python",
   "name": "python",
   "nbconvert_exporter": "python",
   "pygments_lexer": "ipython3",
   "version": "3.6.4"
  }
 },
 "nbformat": 4,
 "nbformat_minor": 2
}
