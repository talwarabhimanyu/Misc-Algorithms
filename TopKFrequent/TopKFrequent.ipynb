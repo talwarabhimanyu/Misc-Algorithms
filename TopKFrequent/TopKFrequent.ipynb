{
 "cells": [
  {
   "cell_type": "code",
   "execution_count": 65,
   "metadata": {},
   "outputs": [],
   "source": [
    "class BinaryHeap(object):\n",
    "    def __init__(self, N):\n",
    "        self.heap = [None]*N\n",
    "        self.last = -1\n",
    "    def insert(self, count_val_pair):\n",
    "        self.last += 1\n",
    "        self.heap[self.last] = count_val_pair\n",
    "        self.swim()\n",
    "    def less(self, k1, k2):\n",
    "        return self.heap[k1][0] < self.heap[k2][0]\n",
    "    def swim(self):\n",
    "        k = self.last\n",
    "        parent = int((k-1)/2) \n",
    "        while k > 0 and self.less(parent, k):\n",
    "            temp = self.heap[parent]\n",
    "            self.heap[parent] = self.heap[k]\n",
    "            self.heap[k] = temp\n",
    "            k = parent\n",
    "            parent = int((k-1)/2)\n",
    "    def delmax(self):\n",
    "        max_key = None\n",
    "        if self.last > -1:\n",
    "            max_key = self.heap[0]\n",
    "            self.heap[0] = self.heap[self.last]\n",
    "            self.heap[self.last] = None\n",
    "            self.last -= 1\n",
    "            if self.last > 0: self.sink()\n",
    "        return max_key\n",
    "    def sink(self):\n",
    "        k = 0\n",
    "        i = 2*k + 1\n",
    "        while(i <= self.last):\n",
    "            if i < self.last and self.less(i, i+1): i += 1\n",
    "            if self.less(i, k): break\n",
    "            temp = self.heap[i]\n",
    "            self.heap[i] = self.heap[k]\n",
    "            self.heap[k] = temp\n",
    "            k = i\n",
    "            i = 2*k + 1\n",
    "class Solution(object):\n",
    "    def topKFrequent(self, nums, k):\n",
    "        \"\"\"\n",
    "        :type nums: List[int]\n",
    "        :type k: int\n",
    "        :rtype: List[int]\n",
    "        \"\"\"\n",
    "        if len(nums) == 0: return []\n",
    "        counts = {}\n",
    "        for val in nums:\n",
    "            if val in counts:\n",
    "                counts[val] += 1\n",
    "            else:\n",
    "                counts.update({val:1})\n",
    "        heap = BinaryHeap(len(nums))\n",
    "        for val in counts:\n",
    "            heap.insert([counts[val], val])\n",
    "        result = []\n",
    "        for i in range(k):\n",
    "            result += [heap.delmax()[1]]\n",
    "        return result"
   ]
  },
  {
   "cell_type": "code",
   "execution_count": 73,
   "metadata": {},
   "outputs": [
    {
     "name": "stdout",
     "output_type": "stream",
     "text": [
      "Heap:  [[10, 10], [5, 5], [2, 2], [1, 1], [3, 3], None, None, None, None, None]\n",
      "Max:   [10, 10]\n",
      "Heap:  [[5, 5], [3, 3], [2, 2], [1, 1], None, None, None, None, None, None]\n",
      "Max:   [5, 5]\n",
      "Heap:  [[3, 3], [1, 1], [2, 2], None, None, None, None, None, None, None]\n",
      "Max:   [3, 3]\n",
      "Heap:  [[2, 2], [1, 1], None, None, None, None, None, None, None, None]\n",
      "Max:   [2, 2]\n",
      "Heap:  [[1, 1], None, None, None, None, None, None, None, None, None]\n",
      "Max:   [1, 1]\n",
      "Heap:  [None, None, None, None, None, None, None, None, None, None]\n",
      "Max:   None\n"
     ]
    }
   ],
   "source": [
    "# Testing the Heap Implementation\n",
    "a = BinaryHeap(10)\n",
    "b = [1,2,3,10,5]\n",
    "for v in b:\n",
    "    a.insert([v,v])\n",
    "for i in range(6):\n",
    "    print('Heap: ', a.heap)\n",
    "    print('Max:  ', a.delmax())"
   ]
  },
  {
   "cell_type": "code",
   "execution_count": 70,
   "metadata": {},
   "outputs": [
    {
     "data": {
      "text/plain": [
       "[2, 4]"
      ]
     },
     "execution_count": 70,
     "metadata": {},
     "output_type": "execute_result"
    }
   ],
   "source": [
    "s = Solution()\n",
    "a = [1,2,1,2,2,3,4,4,4]\n",
    "s.topKFrequent(a,2)"
   ]
  },
  {
   "cell_type": "code",
   "execution_count": null,
   "metadata": {},
   "outputs": [],
   "source": []
  }
 ],
 "metadata": {
  "kernelspec": {
   "display_name": "Python 3",
   "language": "python",
   "name": "python3"
  },
  "language_info": {
   "codemirror_mode": {
    "name": "ipython",
    "version": 3
   },
   "file_extension": ".py",
   "mimetype": "text/x-python",
   "name": "python",
   "nbconvert_exporter": "python",
   "pygments_lexer": "ipython3",
   "version": "3.6.4"
  }
 },
 "nbformat": 4,
 "nbformat_minor": 2
}
