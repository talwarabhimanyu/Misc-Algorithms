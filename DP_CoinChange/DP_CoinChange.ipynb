{
 "cells": [
  {
   "cell_type": "code",
   "execution_count": 55,
   "metadata": {},
   "outputs": [],
   "source": [
    "class Solution(object):\n",
    "    def coinChange(self, coins, amount):\n",
    "        \"\"\"\n",
    "        :type coins: List[int]\n",
    "        :type amount: int\n",
    "        :rtype: int\n",
    "        \"\"\"\n",
    "        if not coins: return -1\n",
    "        self.hashmap = {}\n",
    "        self.min_coin = min(coins)\n",
    "        if amount == 0: return 0\n",
    "        return self.helper(coins, amount)\n",
    "        \n",
    "    def helper(self, coins, amount):\n",
    "        if amount < self.min_coin:\n",
    "            self.hashmap[amount] = -1\n",
    "            return -1\n",
    "        min_count = None\n",
    "        for c in coins:\n",
    "            if c == amount:\n",
    "                return 1\n",
    "            elif c < amount:\n",
    "                leftover = amount - c\n",
    "                sub_count = 0\n",
    "                if leftover in self.hashmap:\n",
    "                    sub_count = self.hashmap[leftover]\n",
    "                else:\n",
    "                    sub_count = self.helper(coins, leftover)\n",
    "                if sub_count > 0:\n",
    "                    if not min_count or 1 + sub_count < min_count:\n",
    "                        min_count = 1 + sub_count\n",
    "        if not min_count: min_count = -1\n",
    "        self.hashmap[amount] = min_count\n",
    "        return min_count "
   ]
  },
  {
   "cell_type": "code",
   "execution_count": 49,
   "metadata": {},
   "outputs": [
    {
     "data": {
      "text/plain": [
       "20"
      ]
     },
     "execution_count": 49,
     "metadata": {},
     "output_type": "execute_result"
    }
   ],
   "source": [
    "s = Solution()\n",
    "coins = [1,2,5]\n",
    "total = 100\n",
    "s.coinChange(coins, total)"
   ]
  },
  {
   "cell_type": "code",
   "execution_count": 50,
   "metadata": {},
   "outputs": [
    {
     "data": {
      "text/plain": [
       "-1"
      ]
     },
     "execution_count": 50,
     "metadata": {},
     "output_type": "execute_result"
    }
   ],
   "source": [
    "s = Solution()\n",
    "coins = [2]\n",
    "total = 3\n",
    "s.coinChange(coins, total)"
   ]
  },
  {
   "cell_type": "code",
   "execution_count": 51,
   "metadata": {},
   "outputs": [
    {
     "data": {
      "text/plain": [
       "-1"
      ]
     },
     "execution_count": 51,
     "metadata": {},
     "output_type": "execute_result"
    }
   ],
   "source": [
    "s = Solution()\n",
    "coins = []\n",
    "total = 11\n",
    "s.coinChange(coins, total)"
   ]
  },
  {
   "cell_type": "code",
   "execution_count": 52,
   "metadata": {},
   "outputs": [
    {
     "data": {
      "text/plain": [
       "-1"
      ]
     },
     "execution_count": 52,
     "metadata": {},
     "output_type": "execute_result"
    }
   ],
   "source": [
    "s = Solution()\n",
    "coins = [7,5]\n",
    "total = 4\n",
    "s.coinChange(coins, total)"
   ]
  },
  {
   "cell_type": "code",
   "execution_count": 53,
   "metadata": {},
   "outputs": [
    {
     "data": {
      "text/plain": [
       "0"
      ]
     },
     "execution_count": 53,
     "metadata": {},
     "output_type": "execute_result"
    }
   ],
   "source": [
    "s = Solution()\n",
    "coins = [1]\n",
    "total = 0\n",
    "s.coinChange(coins, total)"
   ]
  },
  {
   "cell_type": "code",
   "execution_count": 54,
   "metadata": {},
   "outputs": [
    {
     "data": {
      "text/plain": [
       "20"
      ]
     },
     "execution_count": 54,
     "metadata": {},
     "output_type": "execute_result"
    }
   ],
   "source": [
    "s = Solution()\n",
    "coins = [186,419,83,408]\n",
    "total = 6249\n",
    "s.coinChange(coins, total)"
   ]
  },
  {
   "cell_type": "code",
   "execution_count": null,
   "metadata": {},
   "outputs": [],
   "source": []
  }
 ],
 "metadata": {
  "kernelspec": {
   "display_name": "Python 3",
   "language": "python",
   "name": "python3"
  },
  "language_info": {
   "codemirror_mode": {
    "name": "ipython",
    "version": 3
   },
   "file_extension": ".py",
   "mimetype": "text/x-python",
   "name": "python",
   "nbconvert_exporter": "python",
   "pygments_lexer": "ipython3",
   "version": "3.6.4"
  }
 },
 "nbformat": 4,
 "nbformat_minor": 2
}
