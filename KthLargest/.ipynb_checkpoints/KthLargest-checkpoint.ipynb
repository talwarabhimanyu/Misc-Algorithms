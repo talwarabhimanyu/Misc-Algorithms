{
 "cells": [
  {
   "cell_type": "code",
   "execution_count": 29,
   "metadata": {},
   "outputs": [],
   "source": [
    "def Swap(nums, i, j):\n",
    "    temp = nums[j]\n",
    "    nums[j] = nums[i]\n",
    "    nums[i] = temp\n",
    "    return nums\n",
    "\n",
    "def PartitionList(nums, pivot_idx):\n",
    "    nums = Swap(nums, 0, pivot_idx)\n",
    "    start = 1\n",
    "    end = len(nums) - 1\n",
    "    pivot = nums[0]\n",
    "    while (start <= end):\n",
    "        if nums[start] <= pivot:\n",
    "            start += 1\n",
    "        else:\n",
    "            nums = Swap(nums, start, end)\n",
    "            end -= 1\n",
    "    nums = Swap(nums, 0, start - 1)\n",
    "    return nums, start-1"
   ]
  },
  {
   "cell_type": "code",
   "execution_count": 61,
   "metadata": {},
   "outputs": [],
   "source": [
    "def KthLargest(nums, k):\n",
    "    arr = nums\n",
    "    idx = len(arr) - k\n",
    "    while (len(arr) > 0):\n",
    "        pivot = arr[idx]\n",
    "        arr, new_idx = PartitionList(arr, idx)\n",
    "        if new_idx == idx:\n",
    "            return pivot\n",
    "        elif new_idx < idx:\n",
    "            arr = arr[new_idx+1:]\n",
    "            idx -= (new_idx + 1)\n",
    "        else:\n",
    "            arr = arr[0:new_idx]"
   ]
  },
  {
   "cell_type": "code",
   "execution_count": 66,
   "metadata": {},
   "outputs": [
    {
     "data": {
      "text/plain": [
       "3"
      ]
     },
     "execution_count": 66,
     "metadata": {},
     "output_type": "execute_result"
    }
   ],
   "source": [
    "KthLargest([1,2,3], 1)"
   ]
  },
  {
   "cell_type": "code",
   "execution_count": 67,
   "metadata": {},
   "outputs": [
    {
     "data": {
      "text/plain": [
       "4"
      ]
     },
     "execution_count": 67,
     "metadata": {},
     "output_type": "execute_result"
    }
   ],
   "source": [
    "KthLargest([3,2,3,1,2,4,5,5,6], 4)"
   ]
  },
  {
   "cell_type": "code",
   "execution_count": 64,
   "metadata": {},
   "outputs": [
    {
     "data": {
      "text/plain": [
       "5"
      ]
     },
     "execution_count": 64,
     "metadata": {},
     "output_type": "execute_result"
    }
   ],
   "source": [
    "KthLargest([3,2,1,5,6,4],2)"
   ]
  }
 ],
 "metadata": {
  "kernelspec": {
   "display_name": "Python 3",
   "language": "python",
   "name": "python3"
  },
  "language_info": {
   "codemirror_mode": {
    "name": "ipython",
    "version": 3
   },
   "file_extension": ".py",
   "mimetype": "text/x-python",
   "name": "python",
   "nbconvert_exporter": "python",
   "pygments_lexer": "ipython3",
   "version": "3.6.4"
  }
 },
 "nbformat": 4,
 "nbformat_minor": 2
}
