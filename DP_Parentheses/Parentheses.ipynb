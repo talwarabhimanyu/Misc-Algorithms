{
 "cells": [
  {
   "cell_type": "code",
   "execution_count": 71,
   "metadata": {},
   "outputs": [],
   "source": [
    "class Solution(object):\n",
    "    def diffWaysToCompute(self, input):\n",
    "        \"\"\"\n",
    "        :type input: str\n",
    "        :rtype: List[int]\n",
    "        \"\"\"\n",
    "        N = len(input)\n",
    "        self.hashmap = {i:{} for i in range(N)}\n",
    "        return self.recursiveParen(input, 0, N-1)\n",
    "    \n",
    "    def recursiveParen(self, input, i, j):\n",
    "        s = input[i:j+1]\n",
    "        if s.isdigit():\n",
    "            self.hashmap[i][j] = [int(s)]\n",
    "            return [int(s)]\n",
    "        result = []\n",
    "        for idx, ch in enumerate(s):\n",
    "            if ch in '*+-':\n",
    "                start1, end1 = i, i + idx - 1\n",
    "                start2, end2 = end1 + 2, j\n",
    "                list1 = []\n",
    "                if end1 in self.hashmap[start1]: list1 = self.hashmap[start1][end1]\n",
    "                else:                            list1 = self.recursiveParen(input, start1, end1)\n",
    "                list2 = []\n",
    "                if end2 in self.hashmap[start2]: list2 = self.hashmap[start2][end2]\n",
    "                else:                            list2 = self.recursiveParen(input, start2, end2)\n",
    "                result += self.combine(list1, list2, ch)\n",
    "        return result\n",
    "                \n",
    "    def operate(self, num1, num2, oper):\n",
    "        if oper == '+':\n",
    "            return int(num1 + num2)\n",
    "        elif oper == '-':\n",
    "            return int(num1 - num2)\n",
    "        else:\n",
    "            return int(num1 * num2)\n",
    "        \n",
    "    def combine(self, list1, list2, oper):\n",
    "        result = []\n",
    "        for num1 in list1:\n",
    "            for num2 in list2:\n",
    "                result.append(self.operate(num1, num2, oper))\n",
    "        return result"
   ]
  },
  {
   "cell_type": "code",
   "execution_count": 63,
   "metadata": {},
   "outputs": [
    {
     "data": {
      "text/plain": [
       "[-34, -10, -14, -10, 10]"
      ]
     },
     "execution_count": 63,
     "metadata": {},
     "output_type": "execute_result"
    }
   ],
   "source": [
    "s = Solution()\n",
    "input = '2*3-4*5'\n",
    "s.diffWaysToCompute(input)"
   ]
  },
  {
   "cell_type": "code",
   "execution_count": 64,
   "metadata": {},
   "outputs": [
    {
     "data": {
      "text/plain": [
       "[2, 0]"
      ]
     },
     "execution_count": 64,
     "metadata": {},
     "output_type": "execute_result"
    }
   ],
   "source": [
    "s = Solution()\n",
    "input = '2-1-1'\n",
    "s.diffWaysToCompute(input)"
   ]
  },
  {
   "cell_type": "code",
   "execution_count": 66,
   "metadata": {},
   "outputs": [
    {
     "data": {
      "text/plain": [
       "[-1]"
      ]
     },
     "execution_count": 66,
     "metadata": {},
     "output_type": "execute_result"
    }
   ],
   "source": [
    "s = Solution()\n",
    "input = '1-2'\n",
    "s.diffWaysToCompute(input)"
   ]
  },
  {
   "cell_type": "code",
   "execution_count": 67,
   "metadata": {},
   "outputs": [
    {
     "data": {
      "text/plain": [
       "[0]"
      ]
     },
     "execution_count": 67,
     "metadata": {},
     "output_type": "execute_result"
    }
   ],
   "source": [
    "s = Solution()\n",
    "input = '0-0'\n",
    "s.diffWaysToCompute(input)"
   ]
  },
  {
   "cell_type": "code",
   "execution_count": 72,
   "metadata": {},
   "outputs": [
    {
     "data": {
      "text/plain": [
       "[]"
      ]
     },
     "execution_count": 72,
     "metadata": {},
     "output_type": "execute_result"
    }
   ],
   "source": [
    "s = Solution()\n",
    "input = '11'\n",
    "s.diffWaysToCompute(input)"
   ]
  },
  {
   "cell_type": "code",
   "execution_count": null,
   "metadata": {},
   "outputs": [],
   "source": []
  }
 ],
 "metadata": {
  "kernelspec": {
   "display_name": "Python 3",
   "language": "python",
   "name": "python3"
  },
  "language_info": {
   "codemirror_mode": {
    "name": "ipython",
    "version": 3
   },
   "file_extension": ".py",
   "mimetype": "text/x-python",
   "name": "python",
   "nbconvert_exporter": "python",
   "pygments_lexer": "ipython3",
   "version": "3.6.4"
  }
 },
 "nbformat": 4,
 "nbformat_minor": 2
}
